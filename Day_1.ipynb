{
 "cells": [
  {
   "cell_type": "code",
   "execution_count": 1,
   "id": "ffc74a7b-0eb6-447f-a736-247a48a6d647",
   "metadata": {},
   "outputs": [
    {
     "name": "stdout",
     "output_type": "stream",
     "text": [
      "Hello\n"
     ]
    }
   ],
   "source": [
    "print(\"Hello\")"
   ]
  },
  {
   "cell_type": "code",
   "execution_count": 3,
   "id": "e55be127-5eac-42aa-9ffd-1d444d07ba29",
   "metadata": {},
   "outputs": [
    {
     "name": "stdout",
     "output_type": "stream",
     "text": [
      "Samir\n"
     ]
    }
   ],
   "source": [
    "a=\"Samir\"\n",
    "print(a)"
   ]
  },
  {
   "cell_type": "code",
   "execution_count": 2,
   "id": "664b36be-8309-49aa-83f5-6c392ce7c157",
   "metadata": {},
   "outputs": [
    {
     "name": "stdout",
     "output_type": "stream",
     "text": [
      "10\n",
      "Welcome to the Game\n",
      "50\n"
     ]
    }
   ],
   "source": [
    "#Local & Global variable\n",
    "a=\"Welcome to the Game\"\n",
    "def hello():\n",
    "    a=10\n",
    "    print(a)\n",
    "    return\n",
    "hello()\n",
    "print(a)\n",
    "\n",
    "#Sum function\n",
    "def sum(a,b):\n",
    "    c=a+b\n",
    "    print(c)\n",
    "sum(10,40)"
   ]
  },
  {
   "cell_type": "code",
   "execution_count": 6,
   "id": "0bf010d7-a5c9-4691-89f3-8f9d555b83b6",
   "metadata": {},
   "outputs": [
    {
     "name": "stdout",
     "output_type": "stream",
     "text": [
      "1 2 3\n"
     ]
    }
   ],
   "source": [
    "#multiple value assignment\n",
    "a,b,c=1,2,3\n",
    "print(a,b,c)"
   ]
  },
  {
   "cell_type": "code",
   "execution_count": 9,
   "id": "599693f9-2dad-4bf3-abb2-7815beb73301",
   "metadata": {},
   "outputs": [
    {
     "name": "stdout",
     "output_type": "stream",
     "text": [
      "<class 'int'>\n"
     ]
    }
   ],
   "source": [
    "#Type\n",
    "a=10\n",
    "print(type(a))"
   ]
  },
  {
   "cell_type": "code",
   "execution_count": 8,
   "id": "2b14bb41-eba4-4de4-96ac-6e330a7d9d2a",
   "metadata": {},
   "outputs": [
    {
     "name": "stdout",
     "output_type": "stream",
     "text": [
      "0\n",
      "1\n",
      "2\n",
      "3\n",
      "4\n",
      "5\n",
      "6\n",
      "7\n",
      "8\n",
      "9\n",
      "S, a, m, i, r"
     ]
    }
   ],
   "source": [
    "#For loop\n",
    "for i in range(10):\n",
    "    print(i)\n",
    "name = \"Samir\"\n",
    "# for i in name:\n",
    "#     print(i)\n",
    "for i, char in enumerate(name):\n",
    "    if i == len(name) - 1:\n",
    "        print(char, end=\"\")\n",
    "    else:\n",
    "        print(char, end=\", \")"
   ]
  },
  {
   "cell_type": "code",
   "execution_count": 9,
   "id": "9f3e602f",
   "metadata": {},
   "outputs": [
    {
     "name": "stdout",
     "output_type": "stream",
     "text": [
      "Red\n",
      "Green\n",
      "Blue\n",
      "Yellow\n"
     ]
    }
   ],
   "source": [
    "colors = [\"Red\", \"Green\", \"Blue\", \"Yellow\"]\n",
    "for x in colors:\n",
    "    print(x)"
   ]
  },
  {
   "cell_type": "code",
   "execution_count": 14,
   "id": "743727b5",
   "metadata": {},
   "outputs": [
    {
     "name": "stdout",
     "output_type": "stream",
     "text": [
      "4\n",
      "5\n",
      "6\n",
      "7\n",
      "8\n"
     ]
    }
   ],
   "source": [
    "for k in range(4,9):\n",
    "    print(k)"
   ]
  },
  {
   "cell_type": "code",
   "execution_count": null,
   "id": "0b136635",
   "metadata": {},
   "outputs": [],
   "source": []
  }
 ],
 "metadata": {
  "kernelspec": {
   "display_name": "Python 3 (ipykernel)",
   "language": "python",
   "name": "python3"
  },
  "language_info": {
   "codemirror_mode": {
    "name": "ipython",
    "version": 3
   },
   "file_extension": ".py",
   "mimetype": "text/x-python",
   "name": "python",
   "nbconvert_exporter": "python",
   "pygments_lexer": "ipython3",
   "version": "3.12.5"
  }
 },
 "nbformat": 4,
 "nbformat_minor": 5
}
